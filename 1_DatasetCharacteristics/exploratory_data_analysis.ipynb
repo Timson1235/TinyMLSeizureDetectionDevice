{
 "cells": [
  {
   "cell_type": "markdown",
   "metadata": {},
   "source": [
    "# Exploratory Data Analysis (EDA)\n",
    "\n",
    "## Table of Contents\n",
    "1. [Dataset Overview](#dataset-overview)\n",
    "3. [Feature Distributions](#feature-distributions)\n",
    "4. [Possible Biases](#possible-biases)\n"
   ]
  },
  {
   "cell_type": "markdown",
   "metadata": {},
   "source": [
    "## Dataset Overview\n",
    "\n",
    "This is one half of our Epilepsy data with labels\n"
   ]
  },
  {
   "cell_type": "code",
   "execution_count": 29,
   "metadata": {},
   "outputs": [
    {
     "name": "stdout",
     "output_type": "stream",
     "text": [
      "Number of samples: 137\n",
      "Number of features: 619\n",
      "Example data:\n",
      "     0x    0y    0z    1x    1y    1z    2x    2y    2z    3x  ...  203x  \\\n",
      "0  0.35  0.22  0.55  0.40  0.01  0.51  0.44 -0.71  0.52  0.47  ...  0.62   \n",
      "1 -0.91 -0.05  0.06 -0.92 -0.02 -1.57 -0.95  0.01 -0.99 -0.95  ... -0.47   \n",
      "2  0.32  1.00  0.37  0.71 -1.33  0.37  0.70 -1.44  0.37  0.75  ...  0.59   \n",
      "3 -0.68 -1.69  0.31 -0.36 -0.58  0.31 -0.13  1.05  0.32 -0.38  ... -0.40   \n",
      "4  0.34 -0.89  0.45  0.53  1.17 -0.05  0.58  1.00 -0.17  0.61  ...  0.40   \n",
      "\n",
      "   203y  203z  204x  204y  204z  205x  205y  205z      206x  \n",
      "0  0.72  0.50  0.65 -0.90  0.55  0.69 -1.30  0.54  EPILEPSY  \n",
      "1  0.88 -0.95 -0.45  0.80 -0.83 -0.45  0.76 -0.78  EPILEPSY  \n",
      "2 -1.04  0.45  0.59  0.47 -0.64  0.59  1.23  0.66  EPILEPSY  \n",
      "3 -0.34 -0.51 -0.23 -0.28 -0.68 -0.25 -0.24 -0.70  EPILEPSY  \n",
      "4 -2.75 -0.38  0.26 -0.93 -0.48  0.12  1.04  0.25  EPILEPSY  \n",
      "\n",
      "[5 rows x 619 columns]\n",
      "['EPILEPSY' 'WALKING' 'RUNNING' 'SAWING']\n"
     ]
    }
   ],
   "source": [
    "import pandas as pd\n",
    "\n",
    "# Load the data\n",
    "# Replace 'your_dataset.csv' with the path to your actual dataset\n",
    "df1 = pd.read_csv('../5_Data/Epilepsy/Epilepsy_TRAIN_wl.csv')\n",
    "\n",
    "# Number of samples\n",
    "num_samples = df1.shape[0]\n",
    "\n",
    "# Number of features\n",
    "num_features = df1.shape[1]\n",
    "\n",
    "# Display these dataset characteristics\n",
    "print(f\"Number of samples: {num_samples}\")\n",
    "print(f\"Number of features: {num_features}\")\n",
    "\n",
    "# Display the first few rows of the dataframe to show the structure\n",
    "print(\"Example data:\")\n",
    "print(df1.head())\n",
    "\n",
    "print(df1['206x'].unique())\n",
    "\n"
   ]
  },
  {
   "cell_type": "markdown",
   "metadata": {},
   "source": [
    "# WISDM"
   ]
  },
  {
   "cell_type": "code",
   "execution_count": 24,
   "metadata": {},
   "outputs": [
    {
     "name": "stdout",
     "output_type": "stream",
     "text": [
      "Number of samples: 54557\n",
      "Number of features: 4\n",
      "Example data:\n",
      "        accX      accY      accZ Activity\n",
      "0   9.397051 -1.127401 -1.061029  Walking\n",
      "1   6.633513  0.187718 -0.440013  Walking\n",
      "2   5.096351  2.329629 -0.079968  Walking\n",
      "3   6.510423  1.363041 -0.363211  Walking\n",
      "4  12.215082 -0.998780 -0.603777  Walking\n",
      "['Walking' 'Jogging' 'Stairs' 'Sitting' 'Standing' 'Typing'\n",
      " 'Brushing Teeth' 'Eating Soup' 'Eating Chips' 'Eating Pasta'\n",
      " 'Drinking from Cup' 'Eating Sandwich' 'Kicking (Soccer Ball)'\n",
      " 'Playing Catch w/Tennis Ball' 'Dribbling (Basketball)' 'Writing'\n",
      " 'Clapping' 'Folding Clothes']\n"
     ]
    }
   ],
   "source": [
    "import pandas as pd\n",
    "\n",
    "# Load the data\n",
    "# Replace 'your_dataset.csv' with the path to your actual dataset\n",
    "df2 = pd.read_csv(r'..\\5_Data\\nonepi\\wisdm-dataset8_wl.csv')\n",
    "\n",
    "# Number of samples\n",
    "num_samples = df2.shape[0]\n",
    "\n",
    "# Number of features\n",
    "num_features = df2.shape[1]\n",
    "\n",
    "# Display these dataset characteristics\n",
    "print(f\"Number of samples: {num_samples}\")\n",
    "print(f\"Number of features: {num_features}\")\n",
    "\n",
    "# Display the first few rows of the dataframe to show the structure\n",
    "print(\"Example data:\")\n",
    "print(df2.head())\n",
    "\n",
    "print(df2.Activity.unique())\n"
   ]
  },
  {
   "cell_type": "markdown",
   "metadata": {},
   "source": [
    "## Feature Distributions\n",
    "\n",
    "both datasets activities that were performed hat similar distributions"
   ]
  },
  {
   "cell_type": "code",
   "execution_count": 25,
   "metadata": {},
   "outputs": [
    {
     "name": "stdout",
     "output_type": "stream",
     "text": [
      "206x\n",
      "WALKING     37\n",
      "RUNNING     36\n",
      "EPILEPSY    34\n",
      "SAWING      30\n",
      "Name: count, dtype: int64\n"
     ]
    }
   ],
   "source": [
    "# Example: Plotting histograms of all numerical features\n",
    "activity_counts = df1['206x'].value_counts()\n",
    "print(activity_counts)"
   ]
  },
  {
   "cell_type": "code",
   "execution_count": 26,
   "metadata": {},
   "outputs": [
    {
     "name": "stdout",
     "output_type": "stream",
     "text": [
      "Activity\n",
      "Eating Pasta                   5525\n",
      "Eating Soup                    2888\n",
      "Jogging                        2884\n",
      "Walking                        2884\n",
      "Stairs                         2884\n",
      "Sitting                        2884\n",
      "Typing                         2884\n",
      "Standing                       2884\n",
      "Brushing Teeth                 2884\n",
      "Eating Chips                   2884\n",
      "Drinking from Cup              2884\n",
      "Eating Sandwich                2884\n",
      "Kicking (Soccer Ball)          2884\n",
      "Playing Catch w/Tennis Ball    2884\n",
      "Dribbling (Basketball)         2884\n",
      "Writing                        2884\n",
      "Clapping                       2884\n",
      "Folding Clothes                2884\n",
      "Name: count, dtype: int64\n"
     ]
    }
   ],
   "source": [
    "# Example: Plotting histograms of all numerical features\n",
    "activity_counts = df2['Activity'].value_counts()\n",
    "print(activity_counts)\n"
   ]
  },
  {
   "cell_type": "markdown",
   "metadata": {},
   "source": [
    "## Possible Biases\n",
    "\n",
    "We don't know how the data was collected so we cannot say if there are any other biases that we are not aware of."
   ]
  }
 ],
 "metadata": {
  "kernelspec": {
   "display_name": "myenv",
   "language": "python",
   "name": "python3"
  },
  "language_info": {
   "codemirror_mode": {
    "name": "ipython",
    "version": 3
   },
   "file_extension": ".py",
   "mimetype": "text/x-python",
   "name": "python",
   "nbconvert_exporter": "python",
   "pygments_lexer": "ipython3",
   "version": "3.10.0"
  }
 },
 "nbformat": 4,
 "nbformat_minor": 2
}
